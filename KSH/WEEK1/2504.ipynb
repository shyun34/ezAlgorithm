{
 "metadata": {
  "language_info": {
   "codemirror_mode": {
    "name": "ipython",
    "version": 3
   },
   "file_extension": ".py",
   "mimetype": "text/x-python",
   "name": "python",
   "nbconvert_exporter": "python",
   "pygments_lexer": "ipython3",
   "version": "3.7.7-final"
  },
  "orig_nbformat": 2,
  "kernelspec": {
   "name": "python3",
   "display_name": "Python 3",
   "language": "python"
  }
 },
 "nbformat": 4,
 "nbformat_minor": 2,
 "cells": [
  {
   "cell_type": "code",
   "execution_count": 1,
   "metadata": {},
   "outputs": [
    {
     "output_type": "stream",
     "name": "stdout",
     "text": [
      "28\n"
     ]
    }
   ],
   "source": [
    "str1=input()\n",
    "stk=[]\n",
    "\n",
    "\n",
    "def hehe(str1):\n",
    "    tmp=1\n",
    "    ans=0\n",
    "    for idx,val in enumerate(str1):\n",
    "        #print(stk, tmp, ans)\n",
    "        if val=='(':\n",
    "            stk.append('(')\n",
    "            tmp=tmp*2\n",
    "        elif val=='[':\n",
    "            stk.append('[')\n",
    "            tmp=tmp*3\n",
    "        elif val==')':\n",
    "            if len(stk)==0:\n",
    "                return 0\n",
    "            if stk[-1]=='(':\n",
    "                stk.pop()\n",
    "                if str1[idx-1]=='(':\n",
    "                    ans=ans+tmp            \n",
    "                tmp=tmp/2\n",
    "            else:\n",
    "                return 0\n",
    "        elif val==']':\n",
    "            if len(stk)==0:\n",
    "                return 0\n",
    "            if stk[-1]=='[':\n",
    "                stk.pop()\n",
    "                if str1[idx-1]=='[':\n",
    "                    ans=ans+tmp\n",
    "                tmp=tmp/3\n",
    "            else:\n",
    "                return 0\n",
    "                break\n",
    "    if len(stk)>0:\n",
    "        return 0\n",
    "    return int(ans)\n",
    "print(hehe(str1))\n",
    "\n"
   ]
  },
  {
   "cell_type": "code",
   "execution_count": null,
   "metadata": {},
   "outputs": [],
   "source": []
  }
 ]
}