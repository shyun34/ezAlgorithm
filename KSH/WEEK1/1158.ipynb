{
 "metadata": {
  "language_info": {
   "codemirror_mode": {
    "name": "ipython",
    "version": 3
   },
   "file_extension": ".py",
   "mimetype": "text/x-python",
   "name": "python",
   "nbconvert_exporter": "python",
   "pygments_lexer": "ipython3",
   "version": "3.7.9-final"
  },
  "orig_nbformat": 2,
  "kernelspec": {
   "name": "python3",
   "display_name": "Python 3",
   "language": "python"
  }
 },
 "nbformat": 4,
 "nbformat_minor": 2,
 "cells": [
  {
   "cell_type": "code",
   "execution_count": 6,
   "metadata": {},
   "outputs": [
    {
     "output_type": "stream",
     "name": "stdout",
     "text": [
      "<3, 6, 2, 7, 5, 1, 4>\n"
     ]
    }
   ],
   "source": [
    "N, K = map(int, input().split())\n",
    "peo = []\n",
    "ans = []\n",
    "ind = K-1\n",
    "\n",
    "for i in range(N):\n",
    "    peo.append(i+1)\n",
    "\n",
    "for i in range(N):\n",
    "    if len(peo) > ind:\n",
    "        ans.append(peo.pop(ind))\n",
    "        ind += K -1\n",
    "    else:\n",
    "        ind = ind%len(peo)\n",
    "        ans.append(peo.pop(ind))\n",
    "        ind += K -1\n",
    "\n",
    "st = \"<\"\n",
    "for i in ans[:-1]:\n",
    "    st = st+str(i)+\", \"\n",
    "st = st+str(ans[-1])+\">\"\n",
    "\n",
    "print(st)"
   ]
  },
  {
   "cell_type": "code",
   "execution_count": null,
   "metadata": {},
   "outputs": [],
   "source": []
  }
 ]
}