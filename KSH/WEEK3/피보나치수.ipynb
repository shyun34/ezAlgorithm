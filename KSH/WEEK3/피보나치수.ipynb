{
 "metadata": {
  "language_info": {
   "codemirror_mode": {
    "name": "ipython",
    "version": 3
   },
   "file_extension": ".py",
   "mimetype": "text/x-python",
   "name": "python",
   "nbconvert_exporter": "python",
   "pygments_lexer": "ipython3",
   "version": 3
  },
  "orig_nbformat": 2
 },
 "nbformat": 4,
 "nbformat_minor": 2,
 "cells": [
  {
   "cell_type": "code",
   "execution_count": null,
   "metadata": {},
   "outputs": [],
   "source": [
    "arr = [0]*100001\n",
    "\n",
    "for i in range(100001):\n",
    "    if i==0:\n",
    "        arr[0]=0\n",
    "    elif i==1:\n",
    "        arr[1]=1\n",
    "    else:\n",
    "        arr[i]=arr[i-1]+arr[i-2]\n",
    "\n",
    "        ## 재귀 돌면 시간 error 나니까 제일 큰 숫자만큼 미리 계산해서 array에서 꺼내 쓰는 방식 사용\n",
    "\n",
    "def solution(n):\n",
    "    answer = arr[n] % 1234567\n",
    "    return answer"
   ]
  }
 ]
}