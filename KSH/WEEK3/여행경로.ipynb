{
 "metadata": {
  "language_info": {
   "codemirror_mode": {
    "name": "ipython",
    "version": 3
   },
   "file_extension": ".py",
   "mimetype": "text/x-python",
   "name": "python",
   "nbconvert_exporter": "python",
   "pygments_lexer": "ipython3",
   "version": "3.8.5-final"
  },
  "orig_nbformat": 2,
  "kernelspec": {
   "name": "python3",
   "display_name": "Python 3",
   "language": "python"
  }
 },
 "nbformat": 4,
 "nbformat_minor": 2,
 "cells": [
  {
   "cell_type": "code",
   "execution_count": 6,
   "metadata": {},
   "outputs": [],
   "source": [
    "def solution(tickets):\n",
    "    routes = {}\n",
    "    for t in tickets:\n",
    "        routes[t[0]] = routes.get(t[0], []) + [t[1]]\n",
    "    print(routes)\n",
    "    for r in routes:\n",
    "        routes[r].sort(reverse=True)\n",
    "    stack = ['ICN']\n",
    "    print(routes)\n",
    "    path = []\n",
    "    while stack:\n",
    "        print(stack)\n",
    "        print(path)\n",
    "        top = stack[-1]\n",
    "        if top in routes and routes[top]:\n",
    "            stack.append(routes[top].pop())\n",
    "        else:\n",
    "            path.append(stack.pop())\n",
    "    return path[::-1]"
   ]
  },
  {
   "cell_type": "code",
   "execution_count": 7,
   "metadata": {},
   "outputs": [
    {
     "output_type": "stream",
     "name": "stdout",
     "text": [
      "{'ICN': ['SFO', 'ATL'], 'SFO': ['ATL'], 'ATL': ['ICN', 'SFO']}\n{'ICN': ['SFO', 'ATL'], 'SFO': ['ATL'], 'ATL': ['SFO', 'ICN']}\n['ICN']\n[]\n['ICN', 'ATL']\n[]\n['ICN', 'ATL', 'ICN']\n[]\n['ICN', 'ATL', 'ICN', 'SFO']\n[]\n['ICN', 'ATL', 'ICN', 'SFO', 'ATL']\n[]\n['ICN', 'ATL', 'ICN', 'SFO', 'ATL', 'SFO']\n[]\n['ICN', 'ATL', 'ICN', 'SFO', 'ATL']\n['SFO']\n['ICN', 'ATL', 'ICN', 'SFO']\n['SFO', 'ATL']\n['ICN', 'ATL', 'ICN']\n['SFO', 'ATL', 'SFO']\n['ICN', 'ATL']\n['SFO', 'ATL', 'SFO', 'ICN']\n['ICN']\n['SFO', 'ATL', 'SFO', 'ICN', 'ATL']\n"
     ]
    },
    {
     "output_type": "execute_result",
     "data": {
      "text/plain": [
       "['ICN', 'ATL', 'ICN', 'SFO', 'ATL', 'SFO']"
      ]
     },
     "metadata": {},
     "execution_count": 7
    }
   ],
   "source": [
    "solution([[\"ICN\", \"SFO\"], [\"ICN\", \"ATL\"], [\"SFO\", \"ATL\"], [\"ATL\", \"ICN\"], [\"ATL\",\"SFO\"]])"
   ]
  },
  {
   "cell_type": "code",
   "execution_count": null,
   "metadata": {},
   "outputs": [],
   "source": []
  }
 ]
}