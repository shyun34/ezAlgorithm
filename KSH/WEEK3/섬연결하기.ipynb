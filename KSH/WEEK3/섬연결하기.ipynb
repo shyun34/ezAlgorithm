{
 "metadata": {
  "language_info": {
   "codemirror_mode": {
    "name": "ipython",
    "version": 3
   },
   "file_extension": ".py",
   "mimetype": "text/x-python",
   "name": "python",
   "nbconvert_exporter": "python",
   "pygments_lexer": "ipython3",
   "version": "3.8.5-final"
  },
  "orig_nbformat": 2,
  "kernelspec": {
   "name": "python3",
   "display_name": "Python 3",
   "language": "python"
  }
 },
 "nbformat": 4,
 "nbformat_minor": 2,
 "cells": [
  {
   "cell_type": "code",
   "execution_count": 1,
   "metadata": {},
   "outputs": [],
   "source": [
    "def solution(n, costs):\n",
    "    answer = 0\n",
    "    costs.sort(key = lambda x: x[2])     #cost를 기준으로 정렬 시킴 \n",
    "    connection = [costs[0][0]]           \n",
    "    while len(connection) != n:\n",
    "        for i, cost in enumerate(costs):\n",
    "            ## 이미 두개의 노드가 connetion 되어 있을 경우에는 넘어감\n",
    "            if (cost[0] in connection) and (cost[1] in connection): continue\n",
    "            ## 둘 중 하나가 connetion에 있을 경우에는\n",
    "            if (cost[0] in connection) or (cost[1] in connection):\n",
    "                ## cost를 더하고\n",
    "                answer += cost[2]\n",
    "                ## 두 노드를 connetion에 넣고\n",
    "                connection.append(cost[0])\n",
    "                connection.append(cost[1])\n",
    "\n",
    "                ## set해서 connetion에 중복 제거\n",
    "                connection = list(set(connection))\n",
    "                ## 사용한 cost는 뺌 \n",
    "                costs.pop(i)\n",
    "                break\n",
    "    return answer"
   ]
  },
  {
   "cell_type": "code",
   "execution_count": 2,
   "metadata": {},
   "outputs": [],
   "source": [
    "n=4\n",
    "costs = [[0,1,1],[0,2,2],[1,2,5],[1,3,1],[2,3,8]]   "
   ]
  },
  {
   "cell_type": "code",
   "execution_count": 3,
   "metadata": {},
   "outputs": [],
   "source": [
    "answer = 0\n",
    "costs.sort(key = lambda x: x[2])"
   ]
  },
  {
   "cell_type": "code",
   "execution_count": 4,
   "metadata": {},
   "outputs": [
    {
     "output_type": "execute_result",
     "data": {
      "text/plain": [
       "[[0, 1, 1], [1, 3, 1], [0, 2, 2], [1, 2, 5], [2, 3, 8]]"
      ]
     },
     "metadata": {},
     "execution_count": 4
    }
   ],
   "source": [
    "costs"
   ]
  },
  {
   "cell_type": "code",
   "execution_count": 5,
   "metadata": {},
   "outputs": [
    {
     "output_type": "execute_result",
     "data": {
      "text/plain": [
       "[0]"
      ]
     },
     "metadata": {},
     "execution_count": 5
    }
   ],
   "source": [
    "connection = [costs[0][0]]\n",
    "connection"
   ]
  },
  {
   "cell_type": "code",
   "execution_count": null,
   "metadata": {},
   "outputs": [],
   "source": []
  }
 ]
}